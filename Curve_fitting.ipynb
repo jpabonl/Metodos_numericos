{
  "nbformat": 4,
  "nbformat_minor": 0,
  "metadata": {
    "colab": {
      "provenance": [],
      "authorship_tag": "ABX9TyOg3hL6HMlLLFbaZdaO9yDI",
      "include_colab_link": true
    },
    "kernelspec": {
      "name": "python3",
      "display_name": "Python 3"
    },
    "language_info": {
      "name": "python"
    }
  },
  "cells": [
    {
      "cell_type": "markdown",
      "metadata": {
        "id": "view-in-github",
        "colab_type": "text"
      },
      "source": [
        "<a href=\"https://colab.research.google.com/github/jpabonl/Metodos_numericos/blob/main/Curve_fitting.ipynb\" target=\"_parent\"><img src=\"https://colab.research.google.com/assets/colab-badge.svg\" alt=\"Open In Colab\"/></a>"
      ]
    },
    {
      "cell_type": "code",
      "execution_count": null,
      "metadata": {
        "id": "yZWS1VKxBex6"
      },
      "outputs": [],
      "source": [
        "import scipy as sp\n",
        "from scipy.optimize import curve_fit\n",
        "import numpy as np\n",
        "import matplotlib.pyplot as plt\n",
        "import pandas as pd"
      ]
    },
    {
      "cell_type": "markdown",
      "source": [
        "# **Curva Sigmoide**: La función tiene un comportamiento de escalón"
      ],
      "metadata": {
        "id": "9ypEHJwzCiQP"
      }
    },
    {
      "cell_type": "code",
      "source": [
        "def sigmoide(x, A, B, C, x0):\n",
        "  return A+(B-A)/(1+np.ecp(-C*(x-x0)))"
      ],
      "metadata": {
        "id": "4Xm75UqfCU_T"
      },
      "execution_count": null,
      "outputs": []
    },
    {
      "cell_type": "code",
      "source": [
        "data = np.loadtxt(\"datos.dat\")\n",
        "x =data[:,0]\n",
        "y =data[:,1]\n",
        "param, cov = curve_fit(sigmoide,x , y)\n",
        "incert = np.sqrt(np.diag(cov))\n",
        "\n",
        "print(param)\n",
        "print(incert)\n",
        "plt.plot(x, y, \"*b\", label=\"data exp\")\n",
        "\n",
        "x_fit = np.linspace(x[0], x[-1], 1000, endpoint=True)\n",
        "plt.plot(x_fit, sigmoide(x_fit, *param), \"--r\", label=\"Ajuste\")\n",
        "\n",
        "plt.legend()\n",
        "\n",
        "plt.show()"
      ],
      "metadata": {
        "id": "54uD3Q6bChBb"
      },
      "execution_count": null,
      "outputs": []
    },
    {
      "cell_type": "markdown",
      "source": [
        "# **Ajuste lineal de datos**"
      ],
      "metadata": {
        "id": "jsTooiNJGtay"
      }
    },
    {
      "cell_type": "code",
      "source": [
        "# Leer el archivo Excel\n",
        "archivo_excel = 'tu_archivo.xlsx'  # Reemplaza 'tu_archivo.xlsx' con la ubicación de tu archivo\n",
        "hoja_excel = 'Hoja1'  # Reemplaza 'Hoja1' con el nombre de la hoja que deseas procesar\n",
        "\n",
        "df = pd.read_excel(archivo_excel, sheet_name=hoja_excel)\n",
        "\n",
        "# Supongamos que tienes tres columnas 'x', 'y', 'error_x', y 'error_y' en tu hoja de Excel\n",
        "x = df['x'].values\n",
        "y = df['y'].values\n",
        "error_x = df['error_x'].values\n",
        "error_y = df['error_y'].values\n",
        "\n",
        "# Verificar y eliminar valores infinitos o NaN\n",
        "valid_indices = np.isfinite(x) & np.isfinite(y) & np.isfinite(error_x) & np.isfinite(error_y)\n",
        "x = x[valid_indices]\n",
        "y = y[valid_indices]\n",
        "error_x = error_x[valid_indices]\n",
        "error_y = error_y[valid_indices]\n",
        "\n",
        "# Definir una función de ajuste de curva (por ejemplo, una línea recta)\n",
        "def modelo_lineal(x, a, b):\n",
        "    return a * x + b\n",
        "\n",
        "# Realizar el ajuste de curva\n",
        "params, covariance = curve_fit(modelo_lineal, x, y)\n",
        "\n",
        "# Obtener los parámetros ajustados\n",
        "a, b = params\n",
        "\n",
        "# Crear una línea de regresión\n",
        "y_regresion = modelo_lineal(x, a, b)\n",
        "\n",
        "# Calcular la ecuación de la línea de regresión\n",
        "ecuacion = f'Ecuación de la línea: y = {a:.2f}x + {b:.2f}'\n",
        "\n",
        "# Graficar los datos y la línea de regresión con barras de error en ambos ejes\n",
        "plt.errorbar(x, y, xerr=error_x, yerr=error_y, fmt='o', label='Datos con error')\n",
        "plt.plot(x, y_regresion, 'r', label='Ajuste de curva')\n",
        "plt.xlabel('Eje X')\n",
        "plt.ylabel('Eje Y')\n",
        "plt.legend()\n",
        "\n",
        "# Agregar la ecuación al gráfico\n",
        "plt.annotate(ecuación, xy=(0.05, 0.85), xycoords='axes fraction', fontsize=12)\n",
        "\n",
        "plt.show()\n",
        "\n",
        "# Imprimir los parámetros ajustados\n",
        "print(f\"Parámetros ajustados: a = {a}, b = {b}\")\n"
      ],
      "metadata": {
        "colab": {
          "base_uri": "https://localhost:8080/",
          "height": 466
        },
        "id": "xXvS_XQ-GjVw",
        "outputId": "3c5f35bb-32f3-4bcc-d07b-a456046ac4dd"
      },
      "execution_count": null,
      "outputs": [
        {
          "output_type": "display_data",
          "data": {
            "text/plain": [
              "<Figure size 640x480 with 1 Axes>"
            ],
            "image/png": "[encoded data removed]"
          },
          "metadata": {}
        },
        {
          "output_type": "stream",
          "name": "stdout",
          "text": [
            "Parámetros ajustados: a = 210.85714225984762, b = -1.942856884026831\n"
          ]
        }
      ]
    },
    {
      "cell_type": "markdown",
      "source": [
        "# **Ajuste de multiples rectas**"
      ],
      "metadata": {
        "id": "0q3140aBgeSi"
      }
    },
    {
      "cell_type": "code",
      "source": [
        "import pandas as pd\n",
        "import numpy as np\n",
        "import matplotlib.pyplot as plt\n",
        "from scipy.optimize import curve_fit\n",
        "\n",
        "# Leer el archivo Excel\n",
        "archivo_excel = 'tu_archivo.xlsx'  # Reemplaza 'tu_archivo.xlsx' con la ubicación de tu archivo\n",
        "hoja_excel = 'Hoja1'  # Reemplaza 'Hoja1' con el nombre de la hoja que deseas procesar\n",
        "\n",
        "df = pd.read_excel(archivo_excel, sheet_name=hoja_excel)\n",
        "\n",
        "# Supongamos que tienes tres columnas 'x', 'y', 'error_x', y 'error_y' en tu hoja de Excel\n",
        "x = df['x'].values\n",
        "y = df['y'].values\n",
        "error_x = df['error_x'].values\n",
        "error_y = df['error_y'].values\n",
        "\n",
        "# Verificar y eliminar valores infinitos o NaN\n",
        "valid_indices = np.isfinite(x) & np.isfinite(y) & np.isfinite(error_x) & np.isfinite(error_y)\n",
        "x = x[valid_indices]\n",
        "y = y[valid_indices]\n",
        "error_x = error_x[valid_indices]\n",
        "error_y = error_y[valid_indices]\n",
        "\n",
        "# Definir una función de ajuste de curva (por ejemplo, una línea recta)\n",
        "def modelo_lineal(x, a, b):\n",
        "    return a * x + b\n",
        "\n",
        "# Realizar el ajuste de curva para la primera línea\n",
        "params1, covariance1 = curve_fit(modelo_lineal, x, y)\n",
        "\n",
        "# Obtener los parámetros ajustados para la primera línea\n",
        "a1, b1 = params1\n",
        "\n",
        "# Realizar el ajuste de curva para la segunda línea (supongamos que tienes otro conjunto de datos en 'x2' y 'y2')\n",
        "x2 = df['x2'].values\n",
        "y2 = df['y2'].values\n",
        "valid_indices2 = np.isfinite(x2) & np.isfinite(y2)\n",
        "x2 = x2[valid_indices2]\n",
        "y2 = y2[valid_indices2]\n",
        "params2, covariance2 = curve_fit(modelo_lineal, x2, y2)\n",
        "a2, b2 = params2\n",
        "\n",
        "# Crear una línea de regresión para ambas líneas\n",
        "y_regresion1 = modelo_lineal(x, a1, b1)\n",
        "y_regresion2 = modelo_lineal(x2, a2, b2)\n",
        "\n",
        "# Graficar los datos y las líneas de regresión con barras de error en ambos ejes\n",
        "plt.errorbar(x, y, xerr=error_x, yerr=error_y, fmt='o', label='Datos con error 1')\n",
        "plt.errorbar(x2, y2, fmt='s', label='Datos 2')  # Agregar datos sin barras de error para la segunda línea\n",
        "plt.plot(x, y_regresion1, 'r', label='Ajuste de curva 1')\n",
        "plt.plot(x2, y_regresion2, 'g', label='Ajuste de curva 2')\n",
        "plt.xlabel('Eje X')\n",
        "plt.ylabel('Eje Y')\n",
        "plt.legend()\n",
        "\n",
        "plt.show()\n",
        "\n",
        "# Imprimir los parámetros ajustados para ambas líneas\n",
        "print(f\"Parámetros ajustados para la línea 1: a = {a1}, b = {b1}\")\n",
        "print(f\"Parámetros ajustados para la línea 2: a = {a2}, b = {b2}\")\n"
      ],
      "metadata": {
        "id": "RB0Of5IPJiLa"
      },
      "execution_count": null,
      "outputs": []
    },
    {
      "cell_type": "markdown",
      "source": [
        "# **Ajuste de curva exponencial decreciente**"
      ],
      "metadata": {
        "id": "Swns5RxpkZ2Z"
      }
    },
    {
      "cell_type": "code",
      "source": [
        "import pandas as pd\n",
        "import numpy as np\n",
        "import matplotlib.pyplot as plt\n",
        "from scipy.optimize import curve_fit\n",
        "\n",
        "# Leer el archivo Excel\n",
        "archivo_excel = 'tu_archivo.xlsx'  # Reemplaza 'tu_archivo.xlsx' con la ubicación de tu archivo\n",
        "hoja_excel = 'Hoja1'  # Reemplaza 'Hoja1' con el nombre de la hoja que deseas procesar\n",
        "\n",
        "df = pd.read_excel(archivo_excel, sheet_name=hoja_excel)\n",
        "\n",
        "# Supongamos que tienes tres columnas 'x', 'y', 'error_x', y 'error_y' en tu hoja de Excel\n",
        "x = df['x'].values\n",
        "y = df['y'].values\n",
        "error_x = df['error_x'].values\n",
        "error_y = df['error_y'].values\n",
        "\n",
        "# Verificar y eliminar valores infinitos o NaN\n",
        "valid_indices = np.isfinite(x) & np.isfinite(y) & np.isfinite(error_x) & np.isfinite(error_y)\n",
        "x = x[valid_indices]\n",
        "y = y[valid_indices]\n",
        "error_x = error_x[valid_indices]\n",
        "error_y = error_y[valid_indices]\n",
        "\n",
        "# Definir una función de ajuste de curva exponencial negativa\n",
        "def modelo_exponencial(x, a, b, c):\n",
        "    return a * np.exp(-b * x) + c\n",
        "\n",
        "# Realizar el ajuste de curva para la primera línea\n",
        "params1, covariance1 = curve_fit(modelo_exponencial, x, y)\n",
        "\n",
        "# Obtener los parámetros ajustados para la primera línea\n",
        "a1, b1, c1 = params1\n",
        "\n",
        "# Graficar los datos y la línea de regresión con barras de error en ambos ejes\n",
        "plt.errorbar(x, y, xerr=error_x, yerr=error_y, fmt='o', label='Datos con error 1')\n",
        "plt.plot(x, modelo_exponencial(x, a1, b1, c1), 'r', label='Ajuste de curva 1')\n",
        "plt.xlabel('Eje X')\n",
        "plt.ylabel('Eje Y')\n",
        "plt.legend()\n",
        "\n",
        "plt.show()\n",
        "\n",
        "# Imprimir los parámetros ajustados para la línea 1\n",
        "print(f\"Parámetros ajustados para la línea 1: a = {a1}, b = {b1}, c = {c1}\")\n"
      ],
      "metadata": {
        "id": "MH7l4FgJkh_n"
      },
      "execution_count": null,
      "outputs": []
    }
  ]
}