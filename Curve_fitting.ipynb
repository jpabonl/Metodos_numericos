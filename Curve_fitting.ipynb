{
  "nbformat": 4,
  "nbformat_minor": 0,
  "metadata": {
    "colab": {
      "provenance": [],
      "authorship_tag": "ABX9TyM/7jbWk6VNpg4rFmqbpPCG",
      "include_colab_link": true
    },
    "kernelspec": {
      "name": "python3",
      "display_name": "Python 3"
    },
    "language_info": {
      "name": "python"
    }
  },
  "cells": [
    {
      "cell_type": "markdown",
      "metadata": {
        "id": "view-in-github",
        "colab_type": "text"
      },
      "source": [
        "<a href=\"https://colab.research.google.com/github/jpabonl/Metodos_numericos/blob/main/Curve_fitting.ipynb\" target=\"_parent\"><img src=\"https://colab.research.google.com/assets/colab-badge.svg\" alt=\"Open In Colab\"/></a>"
      ]
    },
    {
      "cell_type": "code",
      "execution_count": 4,
      "metadata": {
        "id": "yZWS1VKxBex6"
      },
      "outputs": [],
      "source": [
        "import scipy as sp\n",
        "from scipy.optimize import curve_fit\n",
        "import numpy as np\n",
        "import matplotlib.pyplot as plt\n",
        "import pandas as pd"
      ]
    },
    {
      "cell_type": "markdown",
      "source": [
        "# **Curva Sigmoide**: La función tiene un comportamiento de escalón"
      ],
      "metadata": {
        "id": "9ypEHJwzCiQP"
      }
    },
    {
      "cell_type": "code",
      "source": [
        "def sigmoide(x, A, B, C, x0):\n",
        "  return A+(B-A)/(1+np.ecp(-C*(x-x0)))"
      ],
      "metadata": {
        "id": "4Xm75UqfCU_T"
      },
      "execution_count": 3,
      "outputs": []
    },
    {
      "cell_type": "code",
      "source": [
        "data = np.loadtxt(\"datos.dat\")\n",
        "x =data[:,0]\n",
        "y =data[:,1]\n",
        "param, cov = curve_fit(sigmoide,x , y)\n",
        "incert = np.sqrt(np.diag(cov))\n",
        "\n",
        "print(param)\n",
        "print(incert)\n",
        "plt.plot(x, y, \"*b\", label=\"data exp\")\n",
        "\n",
        "x_fit = np.linspace(x[0], x[-1], 1000, endpoint=True)\n",
        "plt.plot(x_fit, sigmoide(x_fit, *param), \"--r\", label=\"Ajuste\")\n",
        "\n",
        "plt.legend()\n",
        "\n",
        "plt.show()"
      ],
      "metadata": {
        "id": "54uD3Q6bChBb"
      },
      "execution_count": null,
      "outputs": []
    },
    {
      "cell_type": "markdown",
      "source": [
        "# **Ajuste lineal de datos**"
      ],
      "metadata": {
        "id": "jsTooiNJGtay"
      }
    },
    {
      "cell_type": "code",
      "source": [
        "# Leer el archivo Excel\n",
        "archivo_excel = 'tu_archivo.xlsx'  # Reemplaza 'tu_archivo.xlsx' con la ubicación de tu archivo\n",
        "hoja_excel = 'Hoja1'  # Reemplaza 'Hoja1' con el nombre de la hoja que deseas procesar\n",
        "\n",
        "df = pd.read_excel(archivo_excel, sheet_name=hoja_excel)\n",
        "\n",
        "# Supongamos que tienes dos columnas 'x' y 'y' en tu hoja de Excel\n",
        "x = df['x'].values\n",
        "y = df['y'].values\n",
        "\n",
        "# Definir una función de ajuste de curva (por ejemplo, una línea recta)\n",
        "def modelo_lineal(x, a, b):\n",
        "    return a * x + b\n",
        "\n",
        "# Realizar el ajuste de curva\n",
        "params, covariance = curve_fit(modelo_lineal, x, y)\n",
        "\n",
        "# Obtener los parámetros ajustados\n",
        "a, b = params\n",
        "\n",
        "# Crear una línea de regresión\n",
        "y_regresion = modelo_lineal(x, a, b)\n",
        "\n",
        "# Graficar los datos y la línea de regresión\n",
        "plt.scatter(x, y, label='Datos')\n",
        "plt.plot(x, y_regresion, 'r', label='Ajuste de curva')\n",
        "plt.xlabel('Eje X')\n",
        "plt.ylabel('Eje Y')\n",
        "plt.legend()\n",
        "plt.show()\n",
        "\n",
        "# Imprimir los parámetros ajustados\n",
        "print(f\"Parámetros ajustados: a = {a}, b = {b}\")\n"
      ],
      "metadata": {
        "id": "xXvS_XQ-GjVw"
      },
      "execution_count": null,
      "outputs": []
    }
  ]
}